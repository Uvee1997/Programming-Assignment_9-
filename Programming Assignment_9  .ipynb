{
 "cells": [
  {
   "cell_type": "markdown",
   "id": "2ad2b5e1",
   "metadata": {},
   "source": [
    "1) Write a Python Program to check if the given number is Disarium Number ?"
   ]
  },
  {
   "cell_type": "code",
   "execution_count": 2,
   "id": "e0ba28a0",
   "metadata": {},
   "outputs": [
    {
     "name": "stdout",
     "output_type": "stream",
     "text": [
      "175\n",
      "It is Disarium Number\n"
     ]
    }
   ],
   "source": [
    "n = input()\n",
    "len_n = len(n)\n",
    "n = int(n)\n",
    "copy_n = n\n",
    "result = 0\n",
    "i = len_n\n",
    "while(n!=0):\n",
    "    digit = n%10\n",
    "    result = result+pow(digit,i)\n",
    "    n=int(n/10)\n",
    "    i = i-1\n",
    "if(result==copy_n):\n",
    "    print(\"It is Disarium Number\")\n",
    "else:\n",
    "    print(\"It is not Disarium Number\")"
   ]
  },
  {
   "cell_type": "markdown",
   "id": "c48fa9f7",
   "metadata": {},
   "source": [
    "2) Write a Python program to print all disarium numbers between 1 to 100 ?"
   ]
  },
  {
   "cell_type": "code",
   "execution_count": 3,
   "id": "12f8ba69",
   "metadata": {},
   "outputs": [
    {
     "name": "stdout",
     "output_type": "stream",
     "text": [
      "Disarium Number between 1 to 100\n",
      "1\n",
      "2\n",
      "3\n",
      "4\n",
      "5\n",
      "6\n",
      "7\n",
      "8\n",
      "9\n",
      "89\n"
     ]
    }
   ],
   "source": [
    "def calculatelength(n):\n",
    "    length = 0\n",
    "    while(n!=0):\n",
    "        length = length + 1\n",
    "        n = n//10\n",
    "    return length\n",
    "\n",
    "def sumofdigits(num):\n",
    "    rem = sum = 0\n",
    "    len = calculatelength(num)\n",
    "    \n",
    "    while(num>0):\n",
    "        rem = num%10\n",
    "        sum = sum + (rem**len)\n",
    "        num = num//10\n",
    "        len = len - 1\n",
    "        \n",
    "    return sum\n",
    "result = 0\n",
    "\n",
    "print(\"Disarium Number between 1 to 100\")\n",
    "for i in range(1,101):\n",
    "    result = sumofdigits(i)\n",
    "    if(result==i):\n",
    "        print(i)\n",
    "\n",
    "        \n"
   ]
  },
  {
   "cell_type": "markdown",
   "id": "c435fd00",
   "metadata": {},
   "source": [
    "3) Write a Python program to check if the given number is Happy Number?"
   ]
  },
  {
   "cell_type": "code",
   "execution_count": 11,
   "id": "1f95241f",
   "metadata": {},
   "outputs": [
    {
     "ename": "SyntaxError",
     "evalue": "invalid syntax (Temp/ipykernel_11104/3451629095.py, line 2)",
     "output_type": "error",
     "traceback": [
      "\u001b[1;36m  File \u001b[1;32m\"C:\\Users\\Yuvraj\\AppData\\Local\\Temp/ipykernel_11104/3451629095.py\"\u001b[1;36m, line \u001b[1;32m2\u001b[0m\n\u001b[1;33m    set(int)st\u001b[0m\n\u001b[1;37m            ^\u001b[0m\n\u001b[1;31mSyntaxError\u001b[0m\u001b[1;31m:\u001b[0m invalid syntax\n"
     ]
    }
   ],
   "source": [
    "n = input()\n",
    "set(int)st\n",
    "while(1):\n",
    "    n = numsquaresum(n)\n",
    "if(n==1):\n",
    "    return true\n",
    "if(st.find(n) != st.end()):\n",
    "    return false\n",
    "st.insert(n)\n"
   ]
  },
  {
   "cell_type": "markdown",
   "id": "5a219d5f",
   "metadata": {},
   "source": [
    "4) Write a Python program to print all happy numbers between 1 and 100 ?"
   ]
  },
  {
   "cell_type": "code",
   "execution_count": null,
   "id": "aa61e221",
   "metadata": {},
   "outputs": [
    {
     "name": "stdout",
     "output_type": "stream",
     "text": [
      "List of happy numbers between 1 to 100\n",
      "1\n",
      " \n"
     ]
    }
   ],
   "source": [
    "def Happynumber(num):\n",
    "    rem = sum = 0\n",
    "    while(num>0):\n",
    "        rem = sum%10\n",
    "        sum = sum + (rem*rem)\n",
    "        num = num//10\n",
    "    return sum\n",
    "print(\"List of happy numbers between 1 to 100\")\n",
    "for i in range(1,101):\n",
    "    result = i\n",
    "    while(result != 1 and result != 4):\n",
    "        result = Happynumber(result)\n",
    "    if(result==1):\n",
    "        print(i)\n",
    "        print(\" \")\n",
    "    "
   ]
  },
  {
   "cell_type": "markdown",
   "id": "b159aca1",
   "metadata": {},
   "source": [
    "5) Write a Python program to determine whether the given number is a Harshad Number ?"
   ]
  },
  {
   "cell_type": "code",
   "execution_count": 5,
   "id": "5514ddcb",
   "metadata": {},
   "outputs": [
    {
     "name": "stdout",
     "output_type": "stream",
     "text": [
      "156is a harshad number\n"
     ]
    }
   ],
   "source": [
    "num = 156\n",
    "rem = sum = 0\n",
    "n = num\n",
    "while(num>0):\n",
    "    rem = num%10\n",
    "    sum = sum + rem\n",
    "    num = num//10\n",
    "\n",
    "if(n%sum==0):\n",
    "    print(str(n)+ \"is a harshad number\")\n",
    "    \n",
    "else:\n",
    "    print(str(n)+ \"is not harshad number\")"
   ]
  },
  {
   "cell_type": "markdown",
   "id": "9688cec0",
   "metadata": {},
   "source": [
    "6) Write a Python program to print all pronic numbers between 1 and 100 ?"
   ]
  },
  {
   "cell_type": "code",
   "execution_count": null,
   "id": "a3236c7d",
   "metadata": {},
   "outputs": [],
   "source": [
    "def PronicNumber(num):\n",
    "    flag = False\n",
    "    \n",
    "    for j in range(1,num+1):\n",
    "        if((j*(j+1)==num)):\n",
    "            flag = True\n",
    "            break\n",
    "    return flag\n",
    "print(\"Pronic Number between 1 to 100\")\n",
    "for i in range(1,101):\n",
    "    if(isPronicNumber(i)):\n",
    "        print(i)\n",
    "        print(\" \")"
   ]
  },
  {
   "cell_type": "code",
   "execution_count": null,
   "id": "b69535cb",
   "metadata": {},
   "outputs": [],
   "source": []
  }
 ],
 "metadata": {
  "kernelspec": {
   "display_name": "Python 3 (ipykernel)",
   "language": "python",
   "name": "python3"
  },
  "language_info": {
   "codemirror_mode": {
    "name": "ipython",
    "version": 3
   },
   "file_extension": ".py",
   "mimetype": "text/x-python",
   "name": "python",
   "nbconvert_exporter": "python",
   "pygments_lexer": "ipython3",
   "version": "3.9.7"
  }
 },
 "nbformat": 4,
 "nbformat_minor": 5
}
